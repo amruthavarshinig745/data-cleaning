{
 "cells": [
  {
   "cell_type": "code",
   "execution_count": null,
   "id": "9228389c-7ea7-43a5-88ef-0c00b0870fb6",
   "metadata": {},
   "outputs": [
    {
     "name": "stdout",
     "output_type": "stream",
     "text": [
      "Missing values:\n",
      " show_id            0\n",
      "type               0\n",
      "title              0\n",
      "director        2634\n",
      "cast             825\n",
      "country          831\n",
      "date_added        10\n",
      "release_year       0\n",
      "rating             4\n",
      "duration           3\n",
      "listed_in          0\n",
      "description        0\n",
      "dtype: int64\n",
      "show_id                 object\n",
      "type                    object\n",
      "title                   object\n",
      "director                object\n",
      "cast                    object\n",
      "country                 object\n",
      "date_added      datetime64[ns]\n",
      "release_year             int64\n",
      "rating                  object\n",
      "duration                object\n",
      "listed_in               object\n",
      "description             object\n",
      "dtype: object\n",
      "Dataset cleaned and saved as 'netflix_cleaned.csv'\n"
     ]
    }
   ],
   "source": [
    "import pandas as pd\n",
    "\n",
    "# Load the dataset\n",
    "df = pd.read_csv(\"netflix_titles.csv\")\n",
    "\n",
    "# 1. Check for missing values\n",
    "print(\"Missing values:\\n\", df.isnull().sum())\n",
    "\n",
    "# 2. Drop rows with missing titles or types (essential fields)\n",
    "df = df.dropna(subset=['title', 'type'])\n",
    "\n",
    "# 3. Fill missing 'country', 'director' with placeholder\n",
    "df['country'] = df['country'].fillna('Unknown')\n",
    "df['director'] = df['director'].fillna('No Director')\n",
    "\n",
    "# 4. Remove duplicate entries\n",
    "df = df.drop_duplicates()\n",
    "\n",
    "# 5. Standardize text values\n",
    "df['type'] = df['type'].str.strip().str.lower()  # movie, tv show\n",
    "df['country'] = df['country'].str.strip()\n",
    "\n",
    "# 6. Convert 'date_added' to datetime\n",
    "df['date_added'] = pd.to_datetime(df['date_added'], errors='coerce')\n",
    "\n",
    "# 7. Rename columns to clean format\n",
    "df.columns = df.columns.str.strip().str.lower().str.replace(' ', '_')\n",
    "\n",
    "# 8. Check and fix data types\n",
    "print(df.dtypes)\n",
    "\n",
    "# 9. Save the cleaned dataset\n",
    "df.to_csv(\"netflix_cleaned.csv\", index=False)\n",
    "\n",
    "print(\"Dataset cleaned and saved as 'netflix_cleaned.csv'\")"
   ]
  },
  {
   "cell_type": "code",
   "execution_count": null,
   "id": "c2f8de25-60cc-4844-9b81-31f9910b5ff9",
   "metadata": {},
   "outputs": [],
   "source": []
  }
 ],
 "metadata": {
  "kernelspec": {
   "display_name": "Python [conda env:base] *",
   "language": "python",
   "name": "conda-base-py"
  },
  "language_info": {
   "codemirror_mode": {
    "name": "ipython",
    "version": 3
   },
   "file_extension": ".py",
   "mimetype": "text/x-python",
   "name": "python",
   "nbconvert_exporter": "python",
   "pygments_lexer": "ipython3",
   "version": "3.12.7"
  }
 },
 "nbformat": 4,
 "nbformat_minor": 5
}
